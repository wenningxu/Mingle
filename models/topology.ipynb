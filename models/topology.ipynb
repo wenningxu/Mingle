{
 "cells": [
  {
   "cell_type": "code",
   "execution_count": 156,
   "id": "initial_id",
   "metadata": {
    "collapsed": true,
    "ExecuteTime": {
     "end_time": "2024-12-14T02:27:58.376009600Z",
     "start_time": "2024-12-14T02:27:56.083466800Z"
    }
   },
   "outputs": [],
   "source": [
    "import numpy as np\n",
    "import os\n",
    "from tqdm import tqdm\n",
    "import itertools\n",
    "import timeit\n",
    "import torch"
   ]
  },
  {
   "cell_type": "code",
   "execution_count": 152,
   "outputs": [],
   "source": [
    "def optimized_gauss_integral(s1, e1, s2, e2):\n",
    "    \"\"\"\n",
    "    Optimized calculation of the Gauss Link Integral (GLI) between two particle chains.\n",
    "\n",
    "    Parameters:\n",
    "        s1, e1, s2, e2: numpy.ndarray\n",
    "            3D position vectors representing the start and end points of two chains.\n",
    "\n",
    "    Returns:\n",
    "        float: The computed GLI value.\n",
    "    \"\"\"\n",
    "    # Compute vectors between points\n",
    "    r13, r14 = s2 - s1, e2 - s1\n",
    "    r23, r24 = s2 - e1, e2 - e1\n",
    "    r12, r34 = e1 - s1, e2 - s2\n",
    "\n",
    "    # Calculate face normals and their norms\n",
    "    faces = [np.cross(r13, r14), np.cross(r14, r24), np.cross(r24, r23), np.cross(r23, r13)]\n",
    "    norms = np.linalg.norm(faces, axis=1)\n",
    "\n",
    "    # Normalize normals, handling zero norms gracefully\n",
    "    normalized_faces = np.where(norms[:, None] != 0, faces / norms[:, None], np.zeros_like(faces))\n",
    "\n",
    "    # Compute GLI using arcsin of dot products\n",
    "    GLI = 0.0\n",
    "    for i in range(4):\n",
    "        dot = np.dot(normalized_faces[i], normalized_faces[(i + 1) % 4])\n",
    "        dot = np.clip(dot, -1.0, 1.0)  # Clip to handle numerical issues\n",
    "        GLI += np.arcsin(dot)\n",
    "\n",
    "    # Determine the sign of GLI using cross-product and dot-product\n",
    "    sign = np.dot(np.cross(r34, r12), r13)\n",
    "    GLI *= -1 if sign <= 0 else 1\n",
    "\n",
    "    # Scale by the normalization factor\n",
    "    return GLI / (4.0 * np.pi)\n",
    "\n",
    "# Example usage\n",
    "def gauss_integral_all(path1, path2):\n",
    "    \"\"\"\n",
    "    计算两个粒子路径之间的高斯链积分的总和。\n",
    "\n",
    "    参数:\n",
    "        path1: list of np.array, 粒子路径 1，每个元素是一个 [x, y, z] 的 NumPy 数组。\n",
    "        path2: list of np.array, 粒子路径 2，每个元素是一个 [x, y, z] 的 NumPy 数组。\n",
    "        gauss_integral_func: function, 用于计算两条链段之间的 GLI 的函数。\n",
    "    返回:\n",
    "        float: 高斯链积分总和。\n",
    "    \"\"\"\n",
    "\n",
    "    GLI = 0.0\n",
    "\n",
    "    # 遍历 path1 的每对连续粒子\n",
    "    for i in range(len(path1) - 1):\n",
    "        s1, e1 = path1[i], path1[i + 1]\n",
    "\n",
    "        # 遍历 path2 的每对连续粒子\n",
    "        for j in range(len(path2) - 1):\n",
    "            s2, e2 = path2[j], path2[j + 1]\n",
    "\n",
    "            # 调用 gauss_integral_func 计算当前两条链段的 GLI\n",
    "            GLI += optimized_gauss_integral(s1, e1, s2, e2)\n",
    "\n",
    "    return GLI\n",
    "\n",
    "kinematic_chain = [[0, 2, 5, 8, 11], [0, 1, 4, 7, 10], [0, 3, 6, 9, 12, 15], [9, 14, 17, 19, 21], [9, 13, 16, 18, 20]]\n",
    "\n",
    "class Skeleton(object):\n",
    "    def __init__(self, kinematic_tree):\n",
    "        self.kinematic_tree = kinematic_tree\n",
    "        self.parents = [0] * 22\n",
    "        self.parents[0] = -1\n",
    "        self.children = [[] for _ in range(22)]\n",
    "        for chain in self.kinematic_tree:\n",
    "            for j in range(1, len(chain)):\n",
    "                self.parents[chain[j]] = chain[j-1]\n",
    "            for j in range(0, len(chain)-1):\n",
    "                self.children[chain[j]].append(chain[j+1])\n",
    "            \n",
    "\n",
    "    def find_path_to_root(self, current):\n",
    "        path = []\n",
    "        while (current != -1):\n",
    "            path.append(current)\n",
    "            current = self.parents[current]  # 沿父节点方向走\n",
    "        return path\n",
    "    \n",
    "    def find_path_between_leaves(self, start, end):\n",
    "    # 获取从每个叶子节点到根节点的路径\n",
    "        path1 = self.find_path_to_root(start)\n",
    "        path2 = self.find_path_to_root(end)\n",
    "        \n",
    "        # 找到两个路径的公共部分（即最近公共祖先）\n",
    "        set1 = set(path1)\n",
    "        common_ancestor = 0\n",
    "        for joint in path2:\n",
    "            if joint in set1:\n",
    "                common_ancestor = joint\n",
    "                break\n",
    "        \n",
    "        # 构造从 leaf1 到 leaf2 的路径\n",
    "        path_from_leaf1_to_ancestor = [joint for joint in path1[:path1.index(common_ancestor) + 1]]\n",
    "        path_from_ancestor_to_leaf2 = [joint for joint in path2[:path2.index(common_ancestor)]][::-1]\n",
    "        # 合并两个路径，得到从 leaf1 到 leaf2 的路径\n",
    "        path_between_leaves = path_from_leaf1_to_ancestor + path_from_ancestor_to_leaf2\n",
    "    \n",
    "        return path_between_leaves\n",
    "\n",
    "\n",
    "def gauss_integral_skeleton(paths, pose1, pose2):\n",
    "    \n",
    "    GLI = np.zeros([len(paths), len(paths)])\n",
    "    for i in range(len(paths)):\n",
    "        path1 = pose1[paths[i]]\n",
    "        for j in range(len(paths)):\n",
    "            path2 = pose2[paths[j]]\n",
    "            GLI[i, j] = gauss_integral_all(path1, path2)\n",
    "    return GLI\n",
    "    \n",
    "def gauss_integral_motion(kinematic_chain, motion1, motion2):\n",
    "    # motion (frame_num, joint_num, 3)\n",
    "    # skeleton = Skeleton(kinematic_chain)\n",
    "    # end_points = [chain[-1] for chain in kinematic_chain]\n",
    "    # combinations = list(itertools.combinations(end_points, 2))\n",
    "    # combinations = [(a,b) if a<b else (b,a) for a,b in combinations]\n",
    "    # paths = [skeleton.find_path_between_leaves(a,b) for a,b in combinations]\n",
    "    paths = [chain[1:] for chain in kinematic_chain]\n",
    "    paths_extra = [[2,14], [1,13]]\n",
    "    paths = paths + paths_extra\n",
    "    frame = min(len(motion1), len(motion2))\n",
    "    GLI_motion = np.zeros([frame, len(paths), len(paths)])\n",
    "    overlap_flags = np.zeros(frame, dtype=int)\n",
    "    for i in range(frame):\n",
    "        bbox1 = calculate_xz_bounding_box(motion1[i])\n",
    "        bbox2 = calculate_xz_bounding_box(motion2[i])\n",
    "        overlap_flags[i] = int(check_bounding_box_overlap(bbox1, bbox2))\n",
    "        \n",
    "    windows = []\n",
    "    count = 0\n",
    "    while count < frame:\n",
    "        if overlap_flags[count] == 1:\n",
    "            # 找到当前窗口的起点和终点，向前后扩展\n",
    "            start = max(count - 1, 0)\n",
    "            while count < frame and overlap_flags[count] == 1:\n",
    "                count += 1\n",
    "            end = min(count + 1 - 1, frame - 1)\n",
    "\n",
    "            # 添加窗口范围\n",
    "            windows.append((start, end))\n",
    "        else:\n",
    "            count += 1\n",
    "\n",
    "    # 遍历所有帧，计算是否重合\n",
    "    for start, end in windows:\n",
    "        for i in range(start, end + 1):\n",
    "            pose1 = motion1[i]\n",
    "            pose2 = motion2[i]\n",
    "            GLI_pose = gauss_integral_skeleton(paths, pose1, pose2)\n",
    "            GLI_motion[i] = GLI_pose\n",
    "    \n",
    "    GLI_abs_vel = np.abs(GLI_motion[1:] - GLI_motion[:-1])\n",
    "    GLI_abs_vel_max = np.max(GLI_abs_vel, axis=(1,2))\n",
    "    return GLI_abs_vel_max\n",
    "\n",
    "\n",
    "\n",
    "def calculate_xz_bounding_box(pose):\n",
    "    x_coords = pose[:, 0]\n",
    "    z_coords = pose[:, 2]\n",
    "    min_x, max_x = np.min(x_coords), np.max(x_coords)\n",
    "    min_z, max_z = np.min(z_coords), np.max(z_coords)\n",
    "    return min_x, max_x, min_z, max_z\n",
    "\n",
    "def check_bounding_box_overlap(bbox1, bbox2):\n",
    "    min_x1, max_x1, min_z1, max_z1 = bbox1\n",
    "    min_x2, max_x2, min_z2, max_z2 = bbox2\n",
    "\n",
    "    # 检查是否在 x 或 z 方向完全分离\n",
    "    if max_x1 < min_x2 or max_x2 < min_x1:\n",
    "        return False  # x 方向分离\n",
    "    if max_z1 < min_z2 or max_z2 < min_z1:\n",
    "        return False  # z 方向分离\n",
    "\n",
    "    return True"
   ],
   "metadata": {
    "collapsed": false,
    "ExecuteTime": {
     "end_time": "2024-12-13T09:43:18.864313100Z",
     "start_time": "2024-12-13T09:43:18.840225300Z"
    }
   },
   "id": "8a429608a736ca19"
  },
  {
   "cell_type": "code",
   "execution_count": 155,
   "outputs": [
    {
     "name": "stdout",
     "output_type": "stream",
     "text": [
      "1.5511682033538818\n",
      "(array([170, 172, 173, 176, 177, 180, 181, 182, 190], dtype=int64),)\n",
      "[0.9148388  0.60379048 0.52057128 0.93691223 0.75647928 0.75609634\n",
      " 0.96255628 0.61992333 0.4417685 ]\n"
     ]
    }
   ],
   "source": [
    "import time\n",
    "\n",
    "motion1 = np.load('../results/multi/left_punch_control_th2_p0.npy')\n",
    "motion2 = np.load('../results/multi/left_punch_control_th2_p2.npy')\n",
    "time1 = time.time()\n",
    "GLI = gauss_integral_motion(kinematic_chain, motion1, motion2)\n",
    "time2 = time.time()\n",
    "# GLI_new = gauss_integral_motion(kinematic_chain, motion1, motion2)\n",
    "print(time2-time1)\n",
    "print(np.where(GLI>0.4))\n",
    "print(GLI[np.where(GLI>0.4)])"
   ],
   "metadata": {
    "collapsed": false,
    "ExecuteTime": {
     "end_time": "2024-12-13T09:44:45.657378400Z",
     "start_time": "2024-12-13T09:44:44.099494Z"
    }
   },
   "id": "38600f9486a32e0b"
  },
  {
   "cell_type": "code",
   "execution_count": 141,
   "outputs": [
    {
     "name": "stdout",
     "output_type": "stream",
     "text": [
      "(array([170, 172, 173, 176, 177, 181, 182], dtype=int64),)\n"
     ]
    }
   ],
   "source": [
    "print(np.where(GLI>0.5))"
   ],
   "metadata": {
    "collapsed": false,
    "ExecuteTime": {
     "end_time": "2024-12-13T00:25:32.062525500Z",
     "start_time": "2024-12-13T00:25:32.049694Z"
    }
   },
   "id": "a3d4899550153ffc"
  },
  {
   "cell_type": "code",
   "execution_count": 74,
   "outputs": [
    {
     "name": "stdout",
     "output_type": "stream",
     "text": [
      "(array([170, 172, 175, 176, 177, 178, 181, 182, 190], dtype=int64),)\n"
     ]
    }
   ],
   "source": [
    "print(np.where(GLI>0.8))"
   ],
   "metadata": {
    "collapsed": false,
    "ExecuteTime": {
     "end_time": "2024-12-12T09:11:09.788064300Z",
     "start_time": "2024-12-12T09:11:09.773679Z"
    }
   },
   "id": "c2ce7fd40f3984a9"
  },
  {
   "cell_type": "code",
   "execution_count": 84,
   "outputs": [
    {
     "name": "stderr",
     "output_type": "stream",
     "text": [
      "100%|██████████| 210/210 [00:07<00:00, 27.67it/s]"
     ]
    },
    {
     "name": "stdout",
     "output_type": "stream",
     "text": [
      "(209,)\n",
      "(array([], dtype=int64),)\n"
     ]
    },
    {
     "name": "stderr",
     "output_type": "stream",
     "text": [
      "\n"
     ]
    }
   ],
   "source": [
    "motion3 = np.load('../results/multi/left_punch_control_th2_p1.npy')\n",
    "GLI_13 = gauss_integral_motion(kinematic_chain, motion1, motion3)\n",
    "print(np.where(GLI_13>0.6))"
   ],
   "metadata": {
    "collapsed": false,
    "ExecuteTime": {
     "end_time": "2024-12-12T11:59:25.552207900Z",
     "start_time": "2024-12-12T11:59:17.945401800Z"
    }
   },
   "id": "d216b67b5187f9fc"
  },
  {
   "cell_type": "code",
   "execution_count": 164,
   "outputs": [
    {
     "name": "stdout",
     "output_type": "stream",
     "text": [
      "tensor([True, True])\n",
      "[[0. 1. 0. 0.]\n",
      " [0. 1. 0. 0.]]\n"
     ]
    }
   ],
   "source": [
    "def calculate_bounding_box(pose):\n",
    "    # Compute bounding box along batch and frame dimensions\n",
    "    x_coords, z_coords = pose[..., 0], pose[..., 2]\n",
    "    return torch.min(x_coords, dim=-1).values, torch.max(x_coords, dim=-1).values, torch.min(z_coords, dim=-1).values, torch.max(z_coords, dim=-1).values\n",
    "\n",
    "def check_overlap(bbox1, bbox2):\n",
    "    # Check for overlap in batch across x and z dimensions\n",
    "    min_x1, max_x1, min_z1, max_z1 = bbox1\n",
    "    min_x2, max_x2, min_z2, max_z2 = bbox2\n",
    "    overlap_x = (max_x1 >= min_x2) & (max_x2 >= min_x1)\n",
    "    overlap_z = (max_z1 >= min_z2) & (max_z2 >= min_z1)\n",
    "    return overlap_x & overlap_z\n",
    "\n",
    "motion = np.zeros([2, 4])\n",
    "pose = torch.rand([2,22,3])\n",
    "pose2 = torch.rand([2,22,3])\n",
    "check_overlap = check_overlap(calculate_bounding_box(pose), calculate_bounding_box(pose2))\n",
    "print(check_overlap)\n",
    "motion[:, 1] = check_overlap.int()\n",
    "print(motion)"
   ],
   "metadata": {
    "collapsed": false,
    "ExecuteTime": {
     "end_time": "2024-12-14T03:55:16.285175500Z",
     "start_time": "2024-12-14T03:55:16.235978800Z"
    }
   },
   "id": "c151e93365dee50f"
  },
  {
   "cell_type": "code",
   "execution_count": 99,
   "outputs": [
    {
     "name": "stdout",
     "output_type": "stream",
     "text": [
      "0.017206699994858354 0.014556300011463463\n"
     ]
    }
   ],
   "source": [
    "def gauss_integral_test():\n",
    "    \"\"\"\n",
    "    Calculate the Gauss Link Integral (GLI) between two particle chains.\n",
    "\n",
    "    Parameters:\n",
    "        s1, e1, s2, e2: numpy.ndarray\n",
    "            3D position vectors representing the start and end points of two chains.\n",
    "\n",
    "    Returns:\n",
    "        float: The computed GLI value.\n",
    "    \"\"\"\n",
    "    s1, e1, s2, e2 = motion1[0, 0], motion1[0, 1], motion1[0, 4], motion1[0, 5]\n",
    "\n",
    "    # Convert inputs to numpy arrays (if not already)\n",
    "    # s1, e1, s2, e2 = map(np.asarray, [s1, e1, s2, e2])\n",
    "\n",
    "    # Ensure points are unique\n",
    "    # pos = [s1, e1, s2, e2]\n",
    "    # for i in range(3):\n",
    "    #     for j in range(i + 1, 4):\n",
    "    #         if np.allclose(pos[i], pos[j]):\n",
    "    #             return 0.0\n",
    "    \n",
    "    # Compute vectors between points\n",
    "    r13 = s2 - s1\n",
    "    r14 = e2 - s1\n",
    "    r23 = s2 - e1\n",
    "    r24 = e2 - e1\n",
    "\n",
    "    # Calculate face normals\n",
    "    n = [np.cross(r13, r14),\n",
    "        np.cross(r14, r24),\n",
    "        np.cross(r24, r23),\n",
    "        np.cross(r23, r13)\n",
    "    ]\n",
    "\n",
    "    # Normalize normals\n",
    "    n = [vec / np.linalg.norm(vec) if np.linalg.norm(vec) != 0 else np.zeros(3) for vec in n]\n",
    "\n",
    "    # Compute GLI\n",
    "    GLI = 0.0\n",
    "    for i in range(4):\n",
    "        dot = np.dot(n[i], n[(i + 1) % 4])\n",
    "        dot = np.clip(dot, -1.0, 1.0)  # Clip to handle numerical issues\n",
    "        GLI += np.arcsin(dot)\n",
    "\n",
    "    # Determine the sign of GLI\n",
    "    r12 = e1 - s1\n",
    "    r34 = e2 - s2\n",
    "    tmp = np.cross(r34, r12)\n",
    "    dot = np.dot(tmp, r13)\n",
    "\n",
    "    if dot <= 0:\n",
    "        GLI *= -1\n",
    "\n",
    "    return GLI / (4.0 * np.pi)\n",
    "\n",
    "\n",
    "def optimized_gauss_integral_test():\n",
    "    \"\"\"\n",
    "    Optimized calculation of the Gauss Link Integral (GLI) between two particle chains.\n",
    "\n",
    "    Parameters:\n",
    "        s1, e1, s2, e2: numpy.ndarray\n",
    "            3D position vectors representing the start and end points of two chains.\n",
    "\n",
    "    Returns:\n",
    "        float: The computed GLI value.\n",
    "    \"\"\"\n",
    "    # Compute vectors between points\n",
    "    s1, e1, s2, e2 = motion1[0, 0], motion1[0, 1], motion1[0, 4], motion1[0, 5]\n",
    "    \n",
    "    r13, r14 = s2 - s1, e2 - s1\n",
    "    r23, r24 = s2 - e1, e2 - e1\n",
    "    r12, r34 = e1 - s1, e2 - s2\n",
    "\n",
    "    # Calculate face normals and their norms\n",
    "    faces = [np.cross(r13, r14), np.cross(r14, r24), np.cross(r24, r23), np.cross(r23, r13)]\n",
    "    norms = np.linalg.norm(faces, axis=1)\n",
    "\n",
    "    # Normalize normals, handling zero norms gracefully\n",
    "    normalized_faces = np.where(norms[:, None] != 0, faces / norms[:, None], np.zeros_like(faces))\n",
    "\n",
    "    # Compute GLI using arcsin of dot products\n",
    "    GLI = 0.0\n",
    "    for i in range(4):\n",
    "        dot = np.dot(normalized_faces[i], normalized_faces[(i + 1) % 4])\n",
    "        dot = np.clip(dot, -1.0, 1.0)  # Clip to handle numerical issues\n",
    "        GLI += np.arcsin(dot)\n",
    "\n",
    "    # Determine the sign of GLI using cross-product and dot-product\n",
    "    sign = np.dot(np.cross(r34, r12), r13)\n",
    "    GLI *= -1 if sign <= 0 else 1\n",
    "\n",
    "    # Scale by the normalization factor\n",
    "    return GLI / (4.0 * np.pi)\n",
    "\n",
    "\n",
    "time1 = timeit.timeit(gauss_integral_test, number=100)\n",
    "time2 = timeit.timeit(optimized_gauss_integral_test, number=100)\n",
    "print(time1, time2)"
   ],
   "metadata": {
    "collapsed": false,
    "ExecuteTime": {
     "end_time": "2024-12-12T12:31:31.542805100Z",
     "start_time": "2024-12-12T12:31:31.497025400Z"
    }
   },
   "id": "a674658ab64ddd60"
  },
  {
   "cell_type": "code",
   "execution_count": null,
   "outputs": [],
   "source": [],
   "metadata": {
    "collapsed": false
   },
   "id": "4f8b03012640daa4"
  }
 ],
 "metadata": {
  "kernelspec": {
   "display_name": "Python 3",
   "language": "python",
   "name": "python3"
  },
  "language_info": {
   "codemirror_mode": {
    "name": "ipython",
    "version": 2
   },
   "file_extension": ".py",
   "mimetype": "text/x-python",
   "name": "python",
   "nbconvert_exporter": "python",
   "pygments_lexer": "ipython2",
   "version": "2.7.6"
  }
 },
 "nbformat": 4,
 "nbformat_minor": 5
}
